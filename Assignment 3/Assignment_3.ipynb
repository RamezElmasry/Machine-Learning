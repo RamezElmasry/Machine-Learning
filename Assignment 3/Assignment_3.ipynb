{
 "cells": [
  {
   "cell_type": "markdown",
   "metadata": {},
   "source": [
    "<h1><center>CSEN1022:Assignment 3</center></h1>\n",
    "<h3><center>Winter 2021</center></h3>\n",
    "<hr style=\"border:2px solid black\"> </hr>"
   ]
  },
  {
   "cell_type": "markdown",
   "metadata": {},
   "source": [
    "## <u> Please don't forget to fill in this data </u>\n",
    "**Member 1**\n",
    "\n",
    "Name: Youssef Abdelrahman Ahmed\n",
    "\n",
    "GUC-ID: 40-17245\n",
    "\n",
    "Elective Tutorial No.: 8\n",
    "\n",
    "**Member 2**\n",
    "\n",
    "Name: Ramez Mohamed Elmasry\n",
    "\n",
    "GUC-ID: 43-10324\n",
    "\n",
    "Elective Tutorial No.: 8\n",
    "\n",
    "<hr style=\"border:2px solid black\"> </hr>"
   ]
  },
  {
   "cell_type": "markdown",
   "metadata": {},
   "source": [
    "## Imports (Don't Edit)"
   ]
  },
  {
   "cell_type": "code",
   "execution_count": 34,
   "metadata": {},
   "outputs": [],
   "source": [
    "# ONLY USE THESE IMPORTS.\n",
    "# PLEASE DON'T EDIT THIS CELL.\n",
    "import numpy as np\n",
    "import matplotlib.pyplot as plt\n",
    "%matplotlib inline"
   ]
  },
  {
   "cell_type": "markdown",
   "metadata": {},
   "source": [
    "## Read Data"
   ]
  },
  {
   "cell_type": "code",
   "execution_count": 35,
   "metadata": {},
   "outputs": [
    {
     "name": "stdout",
     "output_type": "stream",
     "text": [
      "(15000, 3072)\n"
     ]
    }
   ],
   "source": [
    "# X_train, X_test\n",
    "# THE image categories are different.\n",
    "train_airplane = np.array(\n",
    "    [plt.imread('Data/train/airplane/' + str(i) + '.jpg').astype(\"int64\").reshape(-1) for i in range(0, 5000)])\n",
    "test_airplane = np.array([plt.imread('Data/test/airplane/' + str(i) + '.jpg').astype(\"int64\").reshape(-1) for i in range(0, 1000)])\n",
    "train_bird = np.array(\n",
    "    [plt.imread('Data/train/bird/' + str(i) + '.jpg').astype(\"int64\").reshape(-1) for i in range(0, 5000)])\n",
    "test_bird = np.array(\n",
    "    [plt.imread('Data/test/bird/' + str(i) + '.jpg').astype(\"int64\").reshape(-1) for i in range(0, 1000)])\n",
    "train_truck = np.array([plt.imread('Data/train/truck/' + str(i) + '.jpg').astype(\"int64\").reshape(-1) for i in range(0, 5000)])\n",
    "test_truck = np.array([plt.imread('Data/test/truck/' + str(i) + '.jpg').astype(\"int64\").reshape(-1) for i in range(0, 1000)])\n",
    "\n",
    "# train_airplane_normalized = train_airplane / 255\n",
    "# train_bird_normalized = train_bird / 255\n",
    "# train_truck_normalized = train_truck / 255\n",
    "# test_airplane_normalized = test_airplane / 255\n",
    "# test_bird_normalized = test_bird / 255\n",
    "# test_truck_normalized = test_truck / 255\n",
    "# test = np.concatenate((test_airplane_normalized,test_bird_normalized,test_truck_normalized))\n",
    "# train = np.concatenate((train_airplane_normalized, train_bird_normalized,train_truck_normalized))\n",
    "test = np.concatenate((test_airplane,test_bird,test_truck))\n",
    "train = np.concatenate((train_airplane, train_bird,train_truck))\n",
    "\n",
    "print(train.shape)"
   ]
  },
  {
   "cell_type": "markdown",
   "metadata": {},
   "source": [
    "<hr style=\"border:2px solid black\"> </hr>\n",
    "\n",
    "# Perform K means clustering for all 3 classes (Training Data).\n",
    "### Return (memberships, centroids, dbi) --> (vector, matrix, scalar value)."
   ]
  },
  {
   "cell_type": "code",
   "execution_count": 36,
   "metadata": {},
   "outputs": [],
   "source": [
    "###\n",
    "#CODE HERE#\n",
    "###\n",
    "\n",
    "# return (memberships, centroids, dbi)\n",
    "dbi_arr = []\n",
    "membership_vector_arr = []\n",
    "centroid_matrix_arr = []\n",
    "for i in range(10):\n",
    "    old_random_centroid = np.empty((3,3072))\n",
    "    random1 = np.array(train[np.random.randint(15000)]).reshape(1,3072)\n",
    "    random2 = np.array(train[np.random.randint(15000)]).reshape(1,3072)\n",
    "    random3 = np.array(train[np.random.randint(15000)]).reshape(1,3072)\n",
    "    random_centroid = np.concatenate((random1,random2,random3)).reshape(3,3072)\n",
    "    # print(random_centroid.shape)\n",
    "    new_train_0s = []\n",
    "    new_train_1s = []\n",
    "    new_train_2s = []\n",
    "\n",
    "    while not np.array_equal(old_random_centroid,random_centroid):\n",
    "        membership_vector = []\n",
    "        new_train_0s = []\n",
    "        new_train_1s = []\n",
    "        new_train_2s = []\n",
    "        for image in train:\n",
    "            distance1 = np.sqrt(((image - random1)**2).sum())\n",
    "            distance2 = np.sqrt(((image - random2)**2).sum())\n",
    "            distance3 = np.sqrt(((image - random3)**2).sum())\n",
    "            min_distance = min(distance1,distance2,distance3)\n",
    "            if min_distance == distance1:\n",
    "                membership_vector.append(0)\n",
    "            if min_distance == distance2:\n",
    "                membership_vector.append(1)\n",
    "            if min_distance == distance3:\n",
    "                membership_vector.append(2)\n",
    "\n",
    "        # print(distance1)\n",
    "        # print(len(membership_vector), membership_vector)\n",
    "\n",
    "        for i in range(0,15000):\n",
    "            if membership_vector[i] == 0:\n",
    "                new_train_0s.append(train[i])\n",
    "            if membership_vector[i] == 1:\n",
    "                new_train_1s.append(train[i])\n",
    "            if membership_vector[i] == 2:\n",
    "                new_train_2s.append(train[i])\n",
    "\n",
    "        new_train_0s = np.array(new_train_0s).reshape(-1,3072)\n",
    "        random1 = new_train_0s.mean(axis=0).reshape(1, -1)\n",
    "        new_train_1s = np.array(new_train_1s).reshape(-1,3072)\n",
    "        random2 = new_train_1s.mean(axis=0).reshape(1, -1)\n",
    "        new_train_2s = np.array(new_train_2s).reshape(-1,3072)\n",
    "        random3 = new_train_2s.mean(axis=0).reshape(1, -1)\n",
    "        old_random_centroid = random_centroid\n",
    "        random_centroid = np.concatenate((random1,random2,random3)).reshape(3,3072)\n",
    "        # print(old_random_centroid.shape)\n",
    "        # print(new_train_0s.shape, random1.shape)\n",
    "\n",
    "    new_train_0s = np.array(new_train_0s).reshape(-1,3072)\n",
    "    new_train_1s = np.array(new_train_1s).reshape(-1,3072)\n",
    "    new_train_2s = np.array(new_train_2s).reshape(-1,3072)\n",
    "    s0 = np.sqrt(((new_train_0s - random1)**2).sum()) / new_train_0s.shape[0]\n",
    "    s1 = np.sqrt(((new_train_1s - random2)**2).sum()) / new_train_1s.shape[0]\n",
    "    s2 = np.sqrt(((new_train_2s - random3)**2).sum()) / new_train_2s.shape[0]\n",
    "    m01 = np.sqrt(((random1 - random2)**2).sum())\n",
    "    m02 = np.sqrt(((random1 - random3)**2).sum())\n",
    "    m12 = np.sqrt(((random2 - random3)**2).sum())\n",
    "    r01 = (s0+s1)/m01\n",
    "    r02 = (s0+s2)/m02\n",
    "    r12 = (s1+s2)/m12\n",
    "    rij = [r01,r02,r12]\n",
    "    dbi = max(r01,r02,r12)\n",
    "    dbi_arr.append(dbi)\n",
    "    membership_vector_arr.append(membership_vector)\n",
    "    centroid_matrix_arr.append(random_centroid)\n",
    "    # print(s0, s1, s2)\n",
    "#     print(dbi)\n",
    "\n",
    "# print(dbi_arr)\n",
    "# print(len(dbi_arr), len(membership_vector_arr), len(centroid_matrix_arr))\n",
    "dbi_arr = np.array(dbi_arr)\n",
    "min_index = np.argmin(dbi_arr)\n",
    "# print(\"Min index: \", min_index)\n",
    "min_membership_vector = membership_vector_arr[min_index]\n",
    "min_centroid_matrix = centroid_matrix_arr[min_index]\n",
    "cluster1_count1 = 0\n",
    "cluster2_count1 = 0\n",
    "cluster3_count1 = 0\n",
    "for i in range(0,5000):\n",
    "    if min_membership_vector[i] == 0:\n",
    "        cluster1_count1 += 1\n",
    "    if min_membership_vector[i] == 1:\n",
    "        cluster2_count1 += 1\n",
    "    if min_membership_vector[i] == 2:\n",
    "        cluster3_count1 += 1\n",
    "counts1 = np.array([cluster1_count1,cluster2_count1,cluster3_count1])\n",
    "max1 = counts1[np.argmax(counts1)]\n",
    "# print(counts1)\n",
    "cluster1_count2 = 0\n",
    "cluster2_count2 = 0\n",
    "cluster3_count2 = 0\n",
    "for i in range(5000,10000):\n",
    "    if min_membership_vector[i] == 0:\n",
    "        cluster1_count2 += 1\n",
    "    if min_membership_vector[i] == 1:\n",
    "        cluster2_count2 += 1\n",
    "    if min_membership_vector[i] == 2:\n",
    "        cluster3_count2 += 1\n",
    "\n",
    "counts2 = np.array([cluster1_count2,cluster2_count2,cluster3_count2])\n",
    "max2 = counts2[np.argmax(counts2)]\n",
    "# print(counts2)\n",
    "cluster1_count3 = 0\n",
    "cluster2_count3 = 0\n",
    "cluster3_count3 = 0\n",
    "for i in range(10000,15000):\n",
    "    if min_membership_vector[i] == 0:\n",
    "        cluster1_count3 += 1\n",
    "    if min_membership_vector[i] == 1:\n",
    "        cluster2_count3 += 1\n",
    "    if min_membership_vector[i] == 2:\n",
    "        cluster3_count3 += 1\n",
    "\n",
    "counts3 = np.array([cluster1_count3,cluster2_count3,cluster3_count3])\n",
    "max3 = counts3[np.argmax(counts3)]\n",
    "# print(counts3)\n",
    "max_counts = [max1,max2,max3]\n",
    "index_max_counts = [np.argmax(counts1),np.argmax(counts2),np.argmax(counts3)]\n",
    "# print(max1,max2,max3)\n",
    "# print(index_max_counts)"
   ]
  },
  {
   "cell_type": "markdown",
   "metadata": {},
   "source": [
    "<hr style=\"border:2px solid black\"> </hr>\n",
    "\n",
    "# Repeat the previous process 10 times. \n",
    "### Pick the membership vector and the centroids matrix corresponding to the best dbi.\n",
    "##### Make sure you return max_counts and confusion_matrix.\n",
    "(keep history in whatever datastructure you like)."
   ]
  },
  {
   "cell_type": "code",
   "execution_count": 37,
   "metadata": {},
   "outputs": [
    {
     "name": "stdout",
     "output_type": "stream",
     "text": [
      "[[478 242 280]\n",
      " [231 602 167]\n",
      " [140 290 570]]\n"
     ]
    }
   ],
   "source": [
    "#best_membership_matrix = \n",
    "#best_centroids = \n",
    "#best_dbi = \n",
    "\n",
    "###\n",
    "#CODE HERE#\n",
    "###\n",
    "\n",
    "#max_counts = \n",
    "#confusion_matrix=\n",
    "\n",
    "\n",
    "count_0s = 0\n",
    "count_1s = 0\n",
    "count_2s = 0\n",
    "confusion_matrix = []\n",
    "for image in test_airplane:\n",
    "    d1 = np.sqrt(((image - min_centroid_matrix[index_max_counts[0]])**2).sum())\n",
    "    d2 = np.sqrt(((image - min_centroid_matrix[index_max_counts[1]])**2).sum())\n",
    "    d3 = np.sqrt(((image - min_centroid_matrix[index_max_counts[2]])**2).sum())\n",
    "    min_d = min(d1,d2,d3)\n",
    "    if min_d == d1:\n",
    "        count_0s += 1\n",
    "    elif min_d == d2:\n",
    "        count_1s += 1\n",
    "    elif min_d == d3:\n",
    "        count_2s += 1\n",
    "confusion_matrix.append(count_0s)\n",
    "confusion_matrix.append(count_1s)\n",
    "confusion_matrix.append(count_2s)\n",
    "\n",
    "count_0s = 0\n",
    "count_1s = 0\n",
    "count_2s = 0\n",
    "for image in test_bird:\n",
    "    d1 = np.sqrt(((image - min_centroid_matrix[index_max_counts[0]])**2).sum())\n",
    "    d2 = np.sqrt(((image - min_centroid_matrix[index_max_counts[1]])**2).sum())\n",
    "    d3 = np.sqrt(((image - min_centroid_matrix[index_max_counts[2]])**2).sum())\n",
    "    min_d = min(d1,d2,d3)\n",
    "    if min_d == d1:\n",
    "        count_0s += 1\n",
    "    elif min_d == d2:\n",
    "        count_1s += 1\n",
    "    elif min_d == d3:\n",
    "        count_2s += 1\n",
    "confusion_matrix.append(count_0s)\n",
    "confusion_matrix.append(count_1s)\n",
    "confusion_matrix.append(count_2s)\n",
    "\n",
    "count_0s = 0\n",
    "count_1s = 0\n",
    "count_2s = 0\n",
    "for image in test_truck:\n",
    "    d1 = np.sqrt(((image - min_centroid_matrix[index_max_counts[0]])**2).sum())\n",
    "    d2 = np.sqrt(((image - min_centroid_matrix[index_max_counts[1]])**2).sum())\n",
    "    d3 = np.sqrt(((image - min_centroid_matrix[index_max_counts[2]])**2).sum())\n",
    "    min_d = min(d1,d2,d3)\n",
    "    if min_d == d1:\n",
    "        count_0s += 1\n",
    "    elif min_d == d2:\n",
    "        count_1s += 1\n",
    "    elif min_d == d3:\n",
    "        count_2s += 1\n",
    "confusion_matrix.append(count_0s)\n",
    "confusion_matrix.append(count_1s)\n",
    "confusion_matrix.append(count_2s)\n",
    "confusion_matrix = np.array(confusion_matrix).reshape(3,3)\n",
    "print(confusion_matrix)"
   ]
  },
  {
   "cell_type": "markdown",
   "metadata": {},
   "source": [
    "<hr style=\"border:2px solid black\"> </hr>\n",
    "\n",
    "## Don't Edit the Following Cells, Just Run & Save them."
   ]
  },
  {
   "cell_type": "code",
   "execution_count": 38,
   "metadata": {},
   "outputs": [
    {
     "data": {
      "text/plain": [
       "Text(0.5, 1.0, 'Best Counts')"
      ]
     },
     "execution_count": 38,
     "metadata": {},
     "output_type": "execute_result"
    },
    {
     "data": {
      "image/png": "[encoded data removed]",
      "text/plain": [
       "<Figure size 720x432 with 1 Axes>"
      ]
     },
     "metadata": {
      "needs_background": "light"
     },
     "output_type": "display_data"
    }
   ],
   "source": [
    "plt.figure(figsize=(10,6))\n",
    "plt.plot(['Airplane','Bird','Truck'],max_counts,'-o')\n",
    "plt.title('Best Counts')"
   ]
  },
  {
   "cell_type": "code",
   "execution_count": 39,
   "metadata": {},
   "outputs": [
    {
     "data": {
      "image/png": "[encoded data removed]",
      "text/plain": [
       "<Figure size 360x360 with 1 Axes>"
      ]
     },
     "metadata": {
      "needs_background": "light"
     },
     "output_type": "display_data"
    }
   ],
   "source": [
    "plt.rc('figure', figsize=[5,5])\n",
    "plt.matshow(confusion_matrix,cmap=\"Blues\")\n",
    "for i in range(0,confusion_matrix.shape[0]):\n",
    "    for j in range(0,confusion_matrix.shape[1]):\n",
    "        plt.annotate(confusion_matrix[i,j],(j,i))"
   ]
  },
  {
   "cell_type": "code",
   "execution_count": null,
   "metadata": {},
   "outputs": [],
   "source": []
  }
 ],
 "metadata": {
  "interpreter": {
   "hash": "31f2aee4e71d21fbe5cf8b01ff0e069b9275f58929596ceb00d14d90e3e16cd6"
  },
  "kernelspec": {
   "display_name": "Python 3",
   "language": "python",
   "name": "python3"
  },
  "language_info": {
   "codemirror_mode": {
    "name": "ipython",
    "version": 3
   },
   "file_extension": ".py",
   "mimetype": "text/x-python",
   "name": "python",
   "nbconvert_exporter": "python",
   "pygments_lexer": "ipython3",
   "version": "3.8.8"
  }
 },
 "nbformat": 4,
 "nbformat_minor": 4
}
